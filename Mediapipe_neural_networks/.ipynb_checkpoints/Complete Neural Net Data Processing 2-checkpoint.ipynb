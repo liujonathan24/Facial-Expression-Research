{
 "cells": [
  {
   "cell_type": "code",
   "execution_count": 281,
   "metadata": {},
   "outputs": [],
   "source": [
    "import torch\n",
    "import torch.nn as nn\n",
    "import torch.nn.functional as F\n",
    "import numpy as np\n",
    "import pandas as pd\n",
    "from Points import Points\n",
    "from sklearn.model_selection import train_test_split\n",
    "from sklearn.preprocessing import StandardScaler\n",
    "from itertools import chain\n",
    "import mediapipe as mp\n",
    "import glob\n",
    "import os\n",
    "import cv2\n",
    "import random"
   ]
  },
  {
   "cell_type": "code",
   "execution_count": 4,
   "metadata": {},
   "outputs": [
    {
     "name": "stdout",
     "output_type": "stream",
     "text": [
      "Using cuda device\n"
     ]
    }
   ],
   "source": [
    "device = \"cuda\" if torch.cuda.is_available() else \"cpu\"\n",
    "print(f\"Using {device} device\")"
   ]
  },
  {
   "cell_type": "code",
   "execution_count": 101,
   "metadata": {},
   "outputs": [],
   "source": [
    "mp_drawing = mp.solutions.drawing_utils\n",
    "mp_drawing_styles = mp.solutions.drawing_styles\n",
    "mp_face_mesh = mp.solutions.face_mesh\n",
    "\n",
    "# For static images:\n",
    "photo_landmark_dict = {}\n",
    "list_paths = []\n",
    "shapes = []\n",
    "\n",
    "# CK+ load\n",
    "for emotion in [\"anger\", \"contempt\", \"disgust\", \"fear\", \"happiness\", \"neutral\", \"sadness\", \"surprise\"]:\n",
    "    emo_folder_path = \"../Datasets/CK+/\" + emotion\n",
    "    for pic_file in glob.glob(os.path.join(emo_folder_path, \"*png\")):\n",
    "        list_paths.append([emotion, pic_file])\n",
    "\n",
    "# JAFFE load\n",
    "for pic_file in glob.glob(os.path.join(\"../Datasets/JAFFE\", \"*tiff\")):\n",
    "    if \"AN\" in pic_file[16:]:\n",
    "        list_paths.append([\"anger\", pic_file])\n",
    "    elif \"DI\" in pic_file[16:]:\n",
    "        list_paths.append([\"disgust\", pic_file])\n",
    "    elif \"FE\" in pic_file[16:]:\n",
    "        list_paths.append([\"fear\", pic_file])\n",
    "    elif \"HA\" in pic_file[16:]:\n",
    "        list_paths.append([\"happiness\", pic_file])\n",
    "    elif \"NE\" in pic_file[16:]:\n",
    "        list_paths.append([\"neutral\", pic_file])\n",
    "    elif \"SA\" in pic_file[16:]:\n",
    "        list_paths.append([\"sadness\", pic_file])\n",
    "    else:\n",
    "        list_paths.append([\"surprise\", pic_file])\n",
    "\n",
    "# FER-2013\n",
    "FER_emo_dict = {0:\"anger\", 1:\"disgust\", 2:\"fear\", 3:\"happiness\", 4:\"neutral\", 5:\"sadness\", 6:\"surprise\"}\n",
    "for set in [\"test/\", \"train/\"]:\n",
    "    root = \"../Datasets/FER2013/\" + set\n",
    "    for index, emotion in enumerate([\"angry\", \"disgust\", \"fear\", \"happy\", \"neutral\", \"sad\", \"surprise\"]):\n",
    "        emo_folder_path = root + emotion\n",
    "        for pic_file in glob.glob(os.path.join(emo_folder_path, \"*jpg\")):\n",
    "            list_paths.append([FER_emo_dict[index], pic_file])"
   ]
  },
  {
   "cell_type": "code",
   "execution_count": 293,
   "metadata": {},
   "outputs": [
    {
     "name": "stdout",
     "output_type": "stream",
     "text": [
      "30 29 32 31 30 31 30\n",
      "[0, 0, 0, 2, 2, 2, 3, 3, 3, 3, 4, 4, 4, 4, 5, 5, 5, 6, 6, 6, 7, 7, 7, 0, 0, 0, 2, 2, 2, 2, 3, 3, 3, 4, 4, 4, 5, 5, 5, 6, 6, 6, 7, 7, 7, 0, 0, 0, 2, 2, 3, 3, 3, 4, 4, 4, 4, 5, 5, 5, 6, 6, 6, 6, 7, 7, 7, 0, 0, 0, 2, 2, 2, 3, 3, 3, 4, 4, 5, 5, 5, 6, 6, 6, 7, 7, 7, 0, 0, 0, 2, 2, 2, 3, 3, 3, 4, 4, 4, 5, 5, 5, 6, 6, 6, 7, 7, 7, 0, 0, 0, 2, 2, 2, 3, 3, 3, 4, 4, 4, 5, 5, 5, 6, 6, 6, 7, 7, 7, 0, 0, 0, 2, 2, 3, 3, 3, 4, 4, 4, 5, 5, 5, 6, 6, 6, 7, 7, 7, 0, 0, 0, 2, 2, 2, 3, 3, 3, 4, 4, 4, 5, 5, 5, 6, 6, 6, 7, 7, 7, 0, 0, 0, 2, 2, 2, 3, 3, 3, 4, 4, 4, 5, 5, 5, 6, 6, 6, 7, 7, 7, 0, 0, 0, 2, 2, 2, 3, 3, 3, 3, 4, 4, 4, 5, 5, 5, 6, 6, 6, 7, 7, 7]\n"
     ]
    }
   ],
   "source": [
    "angie = 0\n",
    "disgust = 0\n",
    "fe = 0\n",
    "ha = 0\n",
    "ne = 0\n",
    "sa = 0\n",
    "su = 0\n",
    "list_ = []\n",
    "#[\"anger\", \"contempt\", \"disgust\", \"fear\", \"happiness\", \"neutral\", \"sadness\", \"surprise\"]:\n",
    "for pic_file in glob.glob(os.path.join(\"../Datasets/JAFFE/\", \"*tiff\")):\n",
    "    if \"AN\" in pic_file[16:]:\n",
    "        angie +=1\n",
    "        list_.append(0)\n",
    "    elif \"DI\" in pic_file[16:]:\n",
    "        disgust +=1\n",
    "        list_.append(2)\n",
    "    elif \"FE\" in pic_file[16:]:\n",
    "        fe +=1\n",
    "        list_.append(3)\n",
    "    elif \"HA\" in pic_file[16:]:\n",
    "        ha +=1\n",
    "        list_.append(4)\n",
    "    elif \"NE\" in pic_file[16:]:\n",
    "        ne +=1\n",
    "        list_.append(5)\n",
    "    elif \"SA\" in pic_file[16:]:\n",
    "        sa +=1\n",
    "        list_.append(6)\n",
    "    else:\n",
    "        su +=1\n",
    "        list_.append(7)\n",
    "print(angie, disgust, fe, ha, ne, sa, su)\n",
    "print(list_)"
   ]
  },
  {
   "cell_type": "code",
   "execution_count": null,
   "metadata": {},
   "outputs": [],
   "source": [
    "skipped = 0\n",
    "\n",
    "drawing_spec = mp_drawing.DrawingSpec(thickness=1, circle_radius=1)\n",
    "with mp_face_mesh.FaceMesh(\n",
    "    static_image_mode=True,\n",
    "    max_num_faces=1,\n",
    "    refine_landmarks=True,\n",
    "    min_detection_confidence=0.2) as face_mesh:\n",
    "    for idx, [emo, file] in enumerate(list_paths):\n",
    "        image = cv2.imread(file, 0)\n",
    "        # Convert the BGR image to RGB before processing.\n",
    "        results = face_mesh.process(cv2.cvtColor(image, cv2.COLOR_BGR2RGB))\n",
    "\n",
    "        if results.multi_face_landmarks is not None:\n",
    "            photo_landmark_dict[idx-skipped] = [emo]\n",
    "            x_coords = []\n",
    "            y_coords = []\n",
    "            z_coords = []\n",
    "            for count, mark in enumerate(results.multi_face_landmarks[0].landmark):\n",
    "                x_coords.append(mark.x)\n",
    "                y_coords.append(mark.y)\n",
    "                z_coords.append(mark.z)\n",
    "\n",
    "                # MUST CROP PHOTO FIRST AND THEN STUFF.\n",
    "            shape = image.shape\n",
    "\n",
    "            x_coords = [x * shape[0] for x in x_coords]\n",
    "            y_coords = [y * shape[1] for y in y_coords]\n",
    "\n",
    "            range_x = max(x_coords) - min(x_coords)\n",
    "            range_y = max(y_coords) - min(y_coords)\n",
    "            offset_x = [x - min(x_coords) for x in x_coords]\n",
    "            offset_y = [y - min(y_coords) for y in y_coords]\n",
    "            new_x = [x / range_x for x in offset_x]\n",
    "            new_y = [y / range_y for y in offset_y]\n",
    "\n",
    "            photo_landmark_dict[idx-skipped][1:479] = zip(new_x, new_y, z_coords)\n",
    "        else:\n",
    "            skipped += 1\n",
    "        if idx % 200 == 0:\n",
    "            print(idx)\n",
    "            print(f\"length: {len(photo_landmark_dict[idx-skipped])}\")\n",
    "\n",
    "\n",
    "print(skipped)\n",
    "#print(len(photo_landmark_dict[0]))"
   ]
  },
  {
   "cell_type": "code",
   "execution_count": 103,
   "metadata": {},
   "outputs": [],
   "source": [
    "'''for a in photo_landmark_dict.keys():\n",
    "    if len(photo_landmark_dict[a]) != 479:\n",
    "        print(a)\n",
    "        print(f\"weird thing: {photo_landmark_dict[a]}\")'''\n",
    "        \n",
    "dataframe = pd.DataFrame(data=photo_landmark_dict)\n",
    "#print(dataframe.head())\n",
    "#print(dataframe.tail())\n",
    "dataframe.to_json(\"./photo_landmark_list.json\", orient='columns')"
   ]
  },
  {
   "cell_type": "markdown",
   "metadata": {},
   "source": [
    "LINE BREAK :)"
   ]
  },
  {
   "cell_type": "code",
   "execution_count": 304,
   "metadata": {},
   "outputs": [],
   "source": [
    "emotion_dict = {\"anger\": 0, \"contempt\": 1, \"disgust\": 2, \"fear\": 3, \"happiness\": 4, \"neutral\": 5, \"sadness\": 6,\"sad\": 6,\n",
    "            \"surprise\": 7}\n",
    "\n",
    "def read_data(input_landmarks, label_points, desync, z=False):\n",
    "    '''Path for json with '''\n",
    "    \n",
    "    emotions = np.asarray([emotion_dict[y] for y in input_landmarks.iloc[0].astype(object)], dtype=np.float32)\n",
    "    columns = input_landmarks.shape[1]\n",
    "    points = []\n",
    "    for photo in range(columns):\n",
    "        for point in label_points:\n",
    "            if z is True:\n",
    "                coords = input_landmarks[photo+desync].iloc[point+1]\n",
    "            else:\n",
    "                coords = input_landmarks[photo+desync].iloc[point+1][0:2]\n",
    "                \n",
    "            points.extend(coords)\n",
    "    if z is True:\n",
    "        points = np.array(points, dtype=np.float32).reshape(columns, len(label_points*3)) # EDIT THINGS HERE\n",
    "    else:\n",
    "        points = np.array(points, dtype=np.float32).reshape(columns, len(label_points*2)) # EDIT THINGS HERE\n",
    "\n",
    "\n",
    "    print(f\"shape at the end: {points.shape}\")\n",
    "    return emotions, points\n",
    "    \n",
    "def select_points(emotions, points, training_ratio):\n",
    "    X_train, X_test, y_train, y_test = train_test_split(points, emotions, \n",
    "                                                        test_size=(1-training_ratio), random_state=1234)\n",
    "    \n",
    "    X_train = torch.from_numpy(X_train)\n",
    "    X_test = torch.from_numpy(X_test)\n",
    "    \n",
    "    ''' new_y_train = np.zeros([y_train.shape[0], 7])\n",
    "    for index in range(y_train.shape[0]):\n",
    "        if int(y_train[index]) != emotion_dict[\"neutral\"]:\n",
    "            new_y_train[index][int(y_train[index])] = 1\n",
    "    \n",
    "    new_y_test = np.zeros([y_test.shape[0], 7])\n",
    "    for index in range(y_test.shape[0]):\n",
    "        if int(y_test[index]) != emotion_dict[\"neutral\"]:\n",
    "            new_y_test[index][int(y_test[index])] = 1'''\n",
    "        \n",
    "    \n",
    "    y_train = torch.from_numpy(y_train)\n",
    "    y_test = torch.from_numpy(y_test)\n",
    "    \n",
    "    \n",
    "    return X_train, X_test, y_train, y_test\n",
    "    "
   ]
  },
  {
   "cell_type": "code",
   "execution_count": 202,
   "metadata": {},
   "outputs": [],
   "source": [
    "# 1)\n",
    "min_wanted_points = Points.right_eye_middle.value + Points.left_eye_middle.value + Points.nose.value + Points.mouth_inner.value\n",
    "max_wanted_points = min_wanted_points + Points.right_eye_inner.value + Points.right_eye_outer.value + \\\n",
    "        Points.left_eye_inner.value + Points.left_eye_outer.value\n",
    "complete = list(range(468))"
   ]
  },
  {
   "cell_type": "code",
   "execution_count": null,
   "metadata": {},
   "outputs": [],
   "source": [
    "landmarks = pd.read_json(\"./photo_landmark_list.json\")"
   ]
  },
  {
   "cell_type": "code",
   "execution_count": 248,
   "metadata": {},
   "outputs": [],
   "source": [
    "CK = landmarks.truncate(before=0, after=1132, axis=\"columns\")\n",
    "JAFFE = landmarks.truncate(before=1133, after=1345, axis=\"columns\")\n",
    "CK_JAFFE = landmarks.truncate(before=0, after=1345, axis=\"columns\")\n",
    "#print(JAFFE)\n",
    "FER = landmarks.truncate(before=1345, after=35835, axis=\"columns\")"
   ]
  },
  {
   "cell_type": "code",
   "execution_count": 324,
   "metadata": {},
   "outputs": [
    {
     "data": {
      "text/plain": [
       "(0, 35836)"
      ]
     },
     "execution_count": 324,
     "metadata": {},
     "output_type": "execute_result"
    }
   ],
   "source": [
    "landmarks[1133:1135].shape #.iloc(1133,1346)\n"
   ]
  },
  {
   "cell_type": "code",
   "execution_count": 289,
   "metadata": {},
   "outputs": [
    {
     "ename": "TypeError",
     "evalue": "can only concatenate str (not \"int\") to str",
     "output_type": "error",
     "traceback": [
      "\u001b[1;31m---------------------------------------------------------------------------\u001b[0m",
      "\u001b[1;31mTypeError\u001b[0m                                 Traceback (most recent call last)",
      "\u001b[1;32m<ipython-input-289-d0f968af774d>\u001b[0m in \u001b[0;36m<module>\u001b[1;34m\u001b[0m\n\u001b[1;32m----> 1\u001b[1;33m \u001b[0mFER_y\u001b[0m\u001b[1;33m,\u001b[0m \u001b[0mFER_x\u001b[0m \u001b[1;33m=\u001b[0m \u001b[0mread_data\u001b[0m\u001b[1;33m(\u001b[0m\u001b[0mFER\u001b[0m\u001b[1;33m,\u001b[0m \u001b[0mcomplete\u001b[0m\u001b[1;33m,\u001b[0m \u001b[1;36m1345\u001b[0m\u001b[1;33m)\u001b[0m\u001b[1;33m\u001b[0m\u001b[1;33m\u001b[0m\u001b[0m\n\u001b[0m",
      "\u001b[1;32m<ipython-input-288-0f83ba74bb93>\u001b[0m in \u001b[0;36mread_data\u001b[1;34m(input_landmarks, label_points, desync, z)\u001b[0m\n\u001b[0;32m      8\u001b[0m     \u001b[0minput_landmarks\u001b[0m\u001b[1;33m.\u001b[0m\u001b[0mreindex\u001b[0m\u001b[1;33m(\u001b[0m\u001b[0mcolumns\u001b[0m\u001b[1;33m=\u001b[0m\u001b[0mcolumn_order\u001b[0m\u001b[1;33m)\u001b[0m\u001b[1;33m\u001b[0m\u001b[1;33m\u001b[0m\u001b[0m\n\u001b[0;32m      9\u001b[0m \u001b[1;33m\u001b[0m\u001b[0m\n\u001b[1;32m---> 10\u001b[1;33m     \u001b[0memotions\u001b[0m \u001b[1;33m=\u001b[0m \u001b[0mnp\u001b[0m\u001b[1;33m.\u001b[0m\u001b[0masarray\u001b[0m\u001b[1;33m(\u001b[0m\u001b[1;33m[\u001b[0m\u001b[0memotion_dict\u001b[0m\u001b[1;33m[\u001b[0m\u001b[0my\u001b[0m\u001b[1;33m+\u001b[0m\u001b[0mdesync\u001b[0m\u001b[1;33m]\u001b[0m \u001b[1;32mfor\u001b[0m \u001b[0my\u001b[0m \u001b[1;32min\u001b[0m \u001b[0minput_landmarks\u001b[0m\u001b[1;33m.\u001b[0m\u001b[0miloc\u001b[0m\u001b[1;33m[\u001b[0m\u001b[1;36m0\u001b[0m\u001b[1;33m]\u001b[0m\u001b[1;33m.\u001b[0m\u001b[0mastype\u001b[0m\u001b[1;33m(\u001b[0m\u001b[0mobject\u001b[0m\u001b[1;33m)\u001b[0m\u001b[1;33m]\u001b[0m\u001b[1;33m,\u001b[0m \u001b[0mdtype\u001b[0m\u001b[1;33m=\u001b[0m\u001b[0mnp\u001b[0m\u001b[1;33m.\u001b[0m\u001b[0mfloat32\u001b[0m\u001b[1;33m)\u001b[0m\u001b[1;33m\u001b[0m\u001b[1;33m\u001b[0m\u001b[0m\n\u001b[0m\u001b[0;32m     11\u001b[0m     \u001b[0mcolumns\u001b[0m \u001b[1;33m=\u001b[0m \u001b[0minput_landmarks\u001b[0m\u001b[1;33m.\u001b[0m\u001b[0mshape\u001b[0m\u001b[1;33m[\u001b[0m\u001b[1;36m1\u001b[0m\u001b[1;33m]\u001b[0m\u001b[1;33m\u001b[0m\u001b[1;33m\u001b[0m\u001b[0m\n\u001b[0;32m     12\u001b[0m     \u001b[0mpoints\u001b[0m \u001b[1;33m=\u001b[0m \u001b[1;33m[\u001b[0m\u001b[1;33m]\u001b[0m\u001b[1;33m\u001b[0m\u001b[1;33m\u001b[0m\u001b[0m\n",
      "\u001b[1;32m<ipython-input-288-0f83ba74bb93>\u001b[0m in \u001b[0;36m<listcomp>\u001b[1;34m(.0)\u001b[0m\n\u001b[0;32m      8\u001b[0m     \u001b[0minput_landmarks\u001b[0m\u001b[1;33m.\u001b[0m\u001b[0mreindex\u001b[0m\u001b[1;33m(\u001b[0m\u001b[0mcolumns\u001b[0m\u001b[1;33m=\u001b[0m\u001b[0mcolumn_order\u001b[0m\u001b[1;33m)\u001b[0m\u001b[1;33m\u001b[0m\u001b[1;33m\u001b[0m\u001b[0m\n\u001b[0;32m      9\u001b[0m \u001b[1;33m\u001b[0m\u001b[0m\n\u001b[1;32m---> 10\u001b[1;33m     \u001b[0memotions\u001b[0m \u001b[1;33m=\u001b[0m \u001b[0mnp\u001b[0m\u001b[1;33m.\u001b[0m\u001b[0masarray\u001b[0m\u001b[1;33m(\u001b[0m\u001b[1;33m[\u001b[0m\u001b[0memotion_dict\u001b[0m\u001b[1;33m[\u001b[0m\u001b[0my\u001b[0m\u001b[1;33m+\u001b[0m\u001b[0mdesync\u001b[0m\u001b[1;33m]\u001b[0m \u001b[1;32mfor\u001b[0m \u001b[0my\u001b[0m \u001b[1;32min\u001b[0m \u001b[0minput_landmarks\u001b[0m\u001b[1;33m.\u001b[0m\u001b[0miloc\u001b[0m\u001b[1;33m[\u001b[0m\u001b[1;36m0\u001b[0m\u001b[1;33m]\u001b[0m\u001b[1;33m.\u001b[0m\u001b[0mastype\u001b[0m\u001b[1;33m(\u001b[0m\u001b[0mobject\u001b[0m\u001b[1;33m)\u001b[0m\u001b[1;33m]\u001b[0m\u001b[1;33m,\u001b[0m \u001b[0mdtype\u001b[0m\u001b[1;33m=\u001b[0m\u001b[0mnp\u001b[0m\u001b[1;33m.\u001b[0m\u001b[0mfloat32\u001b[0m\u001b[1;33m)\u001b[0m\u001b[1;33m\u001b[0m\u001b[1;33m\u001b[0m\u001b[0m\n\u001b[0m\u001b[0;32m     11\u001b[0m     \u001b[0mcolumns\u001b[0m \u001b[1;33m=\u001b[0m \u001b[0minput_landmarks\u001b[0m\u001b[1;33m.\u001b[0m\u001b[0mshape\u001b[0m\u001b[1;33m[\u001b[0m\u001b[1;36m1\u001b[0m\u001b[1;33m]\u001b[0m\u001b[1;33m\u001b[0m\u001b[1;33m\u001b[0m\u001b[0m\n\u001b[0;32m     12\u001b[0m     \u001b[0mpoints\u001b[0m \u001b[1;33m=\u001b[0m \u001b[1;33m[\u001b[0m\u001b[1;33m]\u001b[0m\u001b[1;33m\u001b[0m\u001b[1;33m\u001b[0m\u001b[0m\n",
      "\u001b[1;31mTypeError\u001b[0m: can only concatenate str (not \"int\") to str"
     ]
    }
   ],
   "source": [
    "FER_y, FER_x = read_data(FER, complete, 1345)"
   ]
  },
  {
   "cell_type": "code",
   "execution_count": 266,
   "metadata": {},
   "outputs": [
    {
     "name": "stdout",
     "output_type": "stream",
     "text": [
      "shape at the end: (1133, 936)\n"
     ]
    }
   ],
   "source": [
    "CK_y, CK_x = read_data(CK, complete, 0)"
   ]
  },
  {
   "cell_type": "code",
   "execution_count": 305,
   "metadata": {},
   "outputs": [
    {
     "name": "stdout",
     "output_type": "stream",
     "text": [
      "shape at the end: (213, 936)\n"
     ]
    }
   ],
   "source": [
    "JAFFE_y, JAFFE_x = read_data(JAFFE, complete, 1133)"
   ]
  },
  {
   "cell_type": "code",
   "execution_count": 250,
   "metadata": {},
   "outputs": [],
   "source": [
    "CK_JAFFE_y, CK_JAFFE_x = read_data(CK_JAFFE, complete, 0)"
   ]
  },
  {
   "cell_type": "code",
   "execution_count": 250,
   "metadata": {},
   "outputs": [
    {
     "name": "stdout",
     "output_type": "stream",
     "text": [
      "shape at the end: (1346, 936)\n"
     ]
    }
   ],
   "source": [
    "all_x, all_y = read_data(landmarks, complete, 0)"
   ]
  },
  {
   "cell_type": "code",
   "execution_count": 234,
   "metadata": {},
   "outputs": [
    {
     "name": "stdout",
     "output_type": "stream",
     "text": [
      "shape at the end: (34491, 936)\n"
     ]
    }
   ],
   "source": [
    "X_train, X_test, y_train, y_test = select_points(emotions, points, .95)"
   ]
  },
  {
   "cell_type": "code",
   "execution_count": 132,
   "metadata": {},
   "outputs": [
    {
     "name": "stdout",
     "output_type": "stream",
     "text": [
      "torch.Size([1076])\n"
     ]
    }
   ],
   "source": [
    "print(y_train.shape)"
   ]
  },
  {
   "cell_type": "code",
   "execution_count": null,
   "metadata": {},
   "outputs": [],
   "source": []
  },
  {
   "cell_type": "code",
   "execution_count": 262,
   "metadata": {},
   "outputs": [],
   "source": [
    "# Neural Net model\n",
    "\n",
    "# 1) Model\n",
    "# Linear model f = wx + b , sigmoid at the end\n",
    "class Model(nn.Module):\n",
    "    def __init__(self, n_input_features):\n",
    "        super(Model, self).__init__()\n",
    "        self.n = n_input_features\n",
    "        self.fc1 = nn.Linear(n_input_features, 512)\n",
    "        self.fc2 = nn.Linear(512, 256)\n",
    "        self.fc3 = nn.Linear(256, 84)\n",
    "        self.fc4 = nn.Linear(84, 8)\n",
    "\n",
    "    def forward(self, x):\n",
    "        #x.reshape(1, self.n)\n",
    "        #x = torch.flatten(x, 1)\n",
    "        _X = 0\n",
    "        '''x = self.t(self.fc1(x))\n",
    "        x = self.t(self.fc2(x))\n",
    "        x = self.t(self.fc3(x))'''\n",
    "        # F.relu\n",
    "        #nn.tanh\n",
    "        # torch.sigmoid\n",
    "        \n",
    "        x = torch.tanh(self.fc1(x))\n",
    "        x = torch.tanh(self.fc2(x))\n",
    "        x = torch.tanh(self.fc3(x))\n",
    "        \n",
    "        x = self.fc4(x)\n",
    "        return x"
   ]
  },
  {
   "cell_type": "code",
   "execution_count": 263,
   "metadata": {},
   "outputs": [
    {
     "data": {
      "text/plain": [
       "Model(\n",
       "  (fc1): Linear(in_features=936, out_features=512, bias=True)\n",
       "  (fc2): Linear(in_features=512, out_features=256, bias=True)\n",
       "  (fc3): Linear(in_features=256, out_features=84, bias=True)\n",
       "  (fc4): Linear(in_features=84, out_features=8, bias=True)\n",
       "  (t): Threshold(threshold=0.5, value=1)\n",
       ")"
      ]
     },
     "execution_count": 263,
     "metadata": {},
     "output_type": "execute_result"
    }
   ],
   "source": [
    "model = Model(936)\n",
    "dict_ = torch.load(\"models/FER-model.pt\")\n",
    "model.load_state_dict(dict_)\n",
    "\n",
    "model.eval()"
   ]
  },
  {
   "cell_type": "code",
   "execution_count": 273,
   "metadata": {},
   "outputs": [],
   "source": [
    "# 2) Loss and optimizer\n",
    "num_epochs = 25\n",
    "learning_rate = 0.01\n",
    "criterion = nn.CrossEntropyLoss()\n",
    "#criterion = nn.L1Loss(size_average=None, reduce=None, reduction='mean')\n",
    "#optimizer = torch.optim.Adam(model.parameters(), lr=learning_rate)\n",
    "optimizer = torch.optim.SGD(model.parameters(), lr=0.00005, momentum=0.3)\n",
    "#optimizer = torch.optim.Adam(model.parameters(), lr=0.01)\n",
    "#optimizer = torch.optim.SGD(model.parameters(), lr=0.00033, momentum=0)\n"
   ]
  },
  {
   "cell_type": "code",
   "execution_count": null,
   "metadata": {},
   "outputs": [],
   "source": [
    "# 3) Training loop\n",
    "\n",
    "for epoch in range(num_epochs):\n",
    "    running_loss = 0\n",
    "    for batch, row in enumerate(X_train):\n",
    "\n",
    "        optimizer.zero_grad()\n",
    "\n",
    "        # Forward pass and loss\n",
    "        y_pred = model(row)\n",
    "        #y_pred = torch.from_numpy(np.reshape(y_pred.detach().numpy(), (1,7)))\n",
    "        y_pred = torch.reshape(y_pred, (1,8))\n",
    "        \n",
    "        y_target = torch.tensor([int(y_train[batch])])\n",
    "        torch.reshape(y_target, (-1,))\n",
    "       \n",
    "        loss = criterion(input=y_pred, target=y_target)\n",
    "\n",
    "        # Backward pass and update\n",
    "        loss.backward()\n",
    "        optimizer.step()\n",
    "        running_loss += loss.item()\n",
    "        \n",
    "        if batch % 1000 == 999:\n",
    "            print(f'[{epoch + 1}, {batch + 1}] loss: {running_loss / 1000:.3f}')\n",
    "            running_loss = 0\n"
   ]
  },
  {
   "cell_type": "code",
   "execution_count": 14,
   "metadata": {},
   "outputs": [],
   "source": [
    "def init_model(path):\n",
    "    model = Model(268)\n",
    "    dict = torch.load(path)\n",
    "    model.load_state_dict(dict)\n",
    "\n",
    "    model.eval()\n",
    "\n",
    "    return model"
   ]
  },
  {
   "cell_type": "code",
   "execution_count": 66,
   "metadata": {},
   "outputs": [],
   "source": [
    "np.set_printoptions(suppress=True)\n"
   ]
  },
  {
   "cell_type": "code",
   "execution_count": 275,
   "metadata": {},
   "outputs": [
    {
     "name": "stdout",
     "output_type": "stream",
     "text": [
      "[[     15.       0.      16.       0.       0.       1.       1.       1.]\n",
      " [      0.       0.       0.       0.       0.       0.       0.       0.]\n",
      " [      0.       0.       0.       0.       0.       0.       0.       0.]\n",
      " [      0.       0.       3.       8.       0.       2.       0.       6.]\n",
      " [      5.       6.       8.      23.      94.      23.       1.       4.]\n",
      " [     53.      12.      59.      17.       6.     594.      54.       2.]\n",
      " [      0.       0.       0.       0.       0.       0.       0.       0.]\n",
      " [1000002.       0.       2.       9.       0.       3.       3.     100.]]\n",
      "811 | accuracy of the ndetwork on the test images: 71.57987643424536 %\n",
      "Accuracy for class: anger is 20.0 % | 15 out of 75\n",
      "Accuracy for class: contempt is 0.0 % | 0 out of 18\n",
      "Accuracy for class: disgust is 0.0 % | 0 out of 88\n",
      "Accuracy for class: fear  is 14.0 % | 8 out of 57\n",
      "Accuracy for class: happiness is 94.0 % | 94 out of 100\n",
      "Accuracy for class: neutral is 95.3 % | 594 out of 623\n",
      "Accuracy for class: sadness is 0.0 % | 0 out of 59\n",
      "Accuracy for class: surprise is 88.5 % | 100 out of 113\n"
     ]
    }
   ],
   "source": [
    "check_acc(model, torch.from_numpy(CK_x), torch.from_numpy(CK_y))"
   ]
  },
  {
   "cell_type": "code",
   "execution_count": 306,
   "metadata": {},
   "outputs": [
    {
     "name": "stdout",
     "output_type": "stream",
     "text": [
      "[[      6.       0.      11.       9.       7.       7.      13.       8.]\n",
      " [      0.       0.       0.       0.       0.       0.       0.       0.]\n",
      " [      0.       0.       0.       0.       0.       0.       0.       0.]\n",
      " [      1.       0.       2.       0.       0.       0.       2.       0.]\n",
      " [      5.       0.       4.       6.       3.       5.       5.       6.]\n",
      " [      5.       0.       7.       9.       9.       9.       3.       8.]\n",
      " [      8.       0.       4.       6.      10.       6.       3.       6.]\n",
      " [1000005.       0.       1.       2.       2.       3.       5.       2.]]\n",
      "23 | accuracy of the ndetwork on the test images: 10.7981220657277 %\n",
      "Accuracy for class: anger is 20.0 % | 6 out of 30\n",
      "Accuracy for class: disgust is 0.0 % | 0 out of 29\n",
      "Accuracy for class: fear  is 0.0 % | 0 out of 32\n",
      "Accuracy for class: happiness is 9.7 % | 3 out of 31\n",
      "Accuracy for class: neutral is 30.0 % | 9 out of 30\n",
      "Accuracy for class: sadness is 9.7 % | 3 out of 31\n",
      "Accuracy for class: surprise is 6.7 % | 2 out of 30\n"
     ]
    }
   ],
   "source": [
    "correct_jaffe_list = [0, 0, 0, 2, 2, 2, 3, 3, 3, 3, 4, 4, 4, 4, 5, 5, 5, 6, 6, 6, 7, 7, 7, 0, 0, 0, 2, 2, 2, 2, 3, 3, 3, 4, 4, 4, 5, 5, 5, 6, 6, 6, 7, 7, 7, 0, 0, 0, 2, 2, 3, 3, 3, 4, 4, 4, 4, 5, 5, 5, 6, 6, 6, 6, 7, 7, 7, 0, 0, 0, 2, 2, 2, 3, 3, 3, 4, 4, 5, 5, 5, 6, 6, 6, 7, 7, 7, 0, 0, 0, 2, 2, 2, 3, 3, 3, 4, 4, 4, 5, 5, 5, 6, 6, 6, 7, 7, 7, 0, 0, 0, 2, 2, 2, 3, 3, 3, 4, 4, 4, 5, 5, 5, 6, 6, 6, 7, 7, 7, 0, 0, 0, 2, 2, 3, 3, 3, 4, 4, 4, 5, 5, 5, 6, 6, 6, 7, 7, 7, 0, 0, 0, 2, 2, 2, 3, 3, 3, 4, 4, 4, 5, 5, 5, 6, 6, 6, 7, 7, 7, 0, 0, 0, 2, 2, 2, 3, 3, 3, 4, 4, 4, 5, 5, 5, 6, 6, 6, 7, 7, 7, 0, 0, 0, 2, 2, 2, 3, 3, 3, 3, 4, 4, 4, 5, 5, 5, 6, 6, 6, 7, 7, 7]\n",
    "\n",
    "nn = model\n",
    "\n",
    "correct = 0\n",
    "total = 0\n",
    "classes = [\"anger\", \"contempt\", \"disgust\", \"fear\", \"happiness\", \"neutral\", \"sadness\", \"surprise\"]\n",
    "# prepare to count predictions for each class\n",
    "correct_pred = {classname: 0 for classname in classes}\n",
    "total_pred = {classname: 0 for classname in classes}\n",
    "\n",
    "identity = np.zeros((8,8))\n",
    "\n",
    "with torch.no_grad():\n",
    "    outputs = nn(torch.from_numpy(JAFFE_x))\n",
    "    _, predicted = torch.max(outputs.data, 1)\n",
    "    total += len(correct_jaffe_list)\n",
    "    correct += (predicted == torch.from_numpy(np.array(correct_jaffe_list))).sum().item()\n",
    "    identity[7][0] = 1000000\n",
    "    for val, cor in zip(predicted, (torch.from_numpy(np.array(correct_jaffe_list)))):\n",
    "        #print(int(val), int(correct))\n",
    "        identity[int(val)][int(cor)] += 1\n",
    "        if int(val) == int(cor):\n",
    "            correct_pred[classes[int(cor)]] += 1\n",
    "        total_pred[classes[int(cor)]] += 1\n",
    "\n",
    "print(identity)\n",
    "print(correct, f'| accuracy of the ndetwork on the test images: {100 * correct / total} %') # 1133, 213, \n",
    "\n",
    "\n",
    "# print accuracy for each class\n",
    "for classname, correct_count in correct_pred.items():\n",
    "    if total_pred[classname] != 0:\n",
    "        accuracy = 100 * float(correct_count) / total_pred[classname]\n",
    "        print(f'Accuracy for class: {classname:5s} is {accuracy:.1f} %', f\"| {correct_count} out of {total_pred[classname]}\")\n"
   ]
  },
  {
   "cell_type": "code",
   "execution_count": 346,
   "metadata": {},
   "outputs": [
    {
     "name": "stderr",
     "output_type": "stream",
     "text": [
      "C:\\Users\\Jonathan\\.conda\\envs\\pytorch\\lib\\site-packages\\ipykernel_launcher.py:30: RuntimeWarning: invalid value encountered in double_scalars\n"
     ]
    },
    {
     "name": "stdout",
     "output_type": "stream",
     "text": [
      "[[0.26116222        nan 0.32122371 0.08938433 0.01975392 0.04179643\n",
      "  0.06635237 0.02846252]\n",
      " [0.         0.         0.         0.         0.         0.\n",
      "  0.         0.        ]\n",
      " [0.         0.         0.         0.         0.         0.\n",
      "  0.         0.        ]\n",
      " [0.03455239        nan 0.01720841 0.04377173 0.01219099 0.01442386\n",
      "  0.02566789 0.02617535]\n",
      " [0.15010096        nan 0.13193117 0.1378605  0.82639124 0.09375512\n",
      "  0.1246726  0.09682338]\n",
      " [0.28831052        nan 0.31739962 0.35815095 0.08940061 0.60973611\n",
      "  0.37890693 0.18094028]\n",
      " [0.19632039        nan 0.13001912 0.20944979 0.02991308 0.17816751\n",
      "  0.35847739 0.04066074]\n",
      " [0.06955351        nan 0.08221797 0.1613827  0.02235015 0.06212096\n",
      "  0.04592282 0.62693774]]\n",
      "[[0.26116221673771595, nan, 0.32122370936902483, 0.08938433217426876, 0.019753922564623546, 0.041796426815276184, 0.06635236598568185, 0.028462515883100382], [0.0, 0.0, 0.0, 0.0, 0.0, 0.0, 0.0, 0.0], [0.0, 0.0, 0.0, 0.0, 0.0, 0.0, 0.0, 0.0], [0.03455238949966345, nan, 0.017208413001912046, 0.04377173246062589, 0.012190992211310531, 0.014423864940173742, 0.02566788894709272, 0.026175349428208386], [0.150100964774512, nan, 0.13193116634799235, 0.13786050317038248, 0.8263912405463371, 0.09375512211112932, 0.12467260345730749, 0.09682337992376112], [0.2883105227731658, nan, 0.3173996175908222, 0.3581509511147474, 0.08940060954961057, 0.6097361088346173, 0.37890693207613063, 0.1809402795425667], [0.19632039488445144, nan, 0.13001912045889102, 0.20944978523215382, 0.029913082740715656, 0.1781675135223734, 0.358477387812118, 0.04066073697585769], [0.06955351133049137, nan, 0.08221797323135756, 0.16138269584782164, 0.022350152387402643, 0.062120963776430095, 0.04592282172166928, 0.6269377382465057]]\n",
      "16939 | accuracy of the ndetwork on the test images: 49.111362384390134 %\n",
      "Accuracy for class: anger is 26.1 % | 1164 out of 4457\n",
      "Accuracy for class: disgust is 0.0 % | 0 out of 523\n",
      "Accuracy for class: fear  is 4.4 % | 214 out of 4889\n",
      "Accuracy for class: happiness is 82.6 % | 7321 out of 8859\n",
      "Accuracy for class: neutral is 61.0 % | 3720 out of 6101\n",
      "Accuracy for class: sadness is 35.8 % | 2053 out of 5727\n",
      "Accuracy for class: surprise is 62.7 % | 2467 out of 3935\n"
     ]
    }
   ],
   "source": [
    "check_acc(model, torch.from_numpy(FER_x), torch.from_numpy(FER_y))"
   ]
  },
  {
   "cell_type": "code",
   "execution_count": 345,
   "metadata": {},
   "outputs": [],
   "source": [
    "def check_acc(model, x, y):\n",
    "    nn = model\n",
    "    \n",
    "    correct = 0\n",
    "    total = 0\n",
    "    classes = [\"anger\", \"contempt\", \"disgust\", \"fear\", \"happiness\", \"neutral\", \"sadness\", \"surprise\"]\n",
    "    # prepare to count predictions for each class\n",
    "    correct_pred = {classname: 0 for classname in classes}\n",
    "    total_pred = {classname: 0 for classname in classes}\n",
    "\n",
    "    identity = np.zeros((8,8))\n",
    "\n",
    "    with torch.no_grad():\n",
    "        outputs = nn(x)\n",
    "        _, predicted = torch.max(outputs.data, 1)\n",
    "        total += y.size(0)\n",
    "        correct += (predicted == y).sum().item()\n",
    "        identity[7][0] +=0\n",
    "        for val, cor in zip(predicted, y):\n",
    "            #print(int(val), int(correct))\n",
    "            identity[int(val)][int(cor)] += 1\n",
    "            if int(val) == int(cor):\n",
    "                correct_pred[classes[int(cor)]] += 1\n",
    "            total_pred[classes[int(cor)]] += 1\n",
    "    \n",
    "    \n",
    "    for row in range(8):\n",
    "        for item in range(8):\n",
    "            if correct_pred[classes[row]] != 0:\n",
    "                identity[row][item] /= total_pred[classes[item]]\n",
    "    print(identity)\n",
    "    \n",
    "    print(identity.tolist())\n",
    "    print(correct, f'| accuracy of the ndetwork on the test images: {100 * correct / total} %') # 1133, 213, \n",
    "\n",
    "\n",
    "\n",
    "    # print accuracy for each class\n",
    "    for classname, correct_count in correct_pred.items():\n",
    "        if total_pred[classname] != 0:\n",
    "            accuracy = 100 * float(correct_count) / total_pred[classname]\n",
    "            print(f'Accuracy for class: {classname:5s} is {accuracy:.1f} %', f\"| {correct_count} out of {total_pred[classname]}\")"
   ]
  },
  {
   "cell_type": "code",
   "execution_count": 255,
   "metadata": {},
   "outputs": [],
   "source": [
    "# Loading\n",
    "\n",
    "# Neural Net model\n",
    "\n",
    "# 1) Model\n",
    "# Linear model f = wx + b , sigmoid at the end\n",
    "class Model(nn.Module):\n",
    "    def __init__(self, n_input_features):\n",
    "        super(Model, self).__init__()\n",
    "        self.n = n_input_features\n",
    "        self.fc1 = nn.Linear(n_input_features, 400)\n",
    "        self.fc2 = nn.Linear(400, 120)\n",
    "        self.fc3 = nn.Linear(120, 84)\n",
    "        self.fc4 = nn.Linear(84, 7)\n",
    "        \n",
    "        self.t = nn.Threshold(.5, 1)\n",
    "\n",
    "    def forward(self, x):\n",
    "        #x.reshape(1, self.n)\n",
    "        #x = torch.flatten(x, 1)\n",
    "        _X = 0\n",
    "        '''x = self.t(self.fc1(x))\n",
    "        x = self.t(self.fc2(x))\n",
    "        x = self.t(self.fc3(x))'''\n",
    "        # F.relu\n",
    "        #nn.tanh\n",
    "        # torch.sigmoid\n",
    "        \n",
    "        x = torch.tanh(self.fc1(x))\n",
    "        x = torch.tanh(self.fc2(x))\n",
    "        x = torch.tanh(self.fc3(x))\n",
    "        \n",
    "        x = self.fc4(x)\n",
    "        return x\n",
    "\n",
    "model = init_model(\"./models/v4-model.pt\")"
   ]
  },
  {
   "cell_type": "code",
   "execution_count": 278,
   "metadata": {},
   "outputs": [],
   "source": [
    "torch.save(model.state_dict(), \"./models/FER2-model.pt\")"
   ]
  },
  {
   "cell_type": "markdown",
   "metadata": {},
   "source": [
    "# "
   ]
  }
 ],
 "metadata": {
  "kernelspec": {
   "display_name": "Python 3",
   "language": "python",
   "name": "python3"
  },
  "language_info": {
   "codemirror_mode": {
    "name": "ipython",
    "version": 3
   },
   "file_extension": ".py",
   "mimetype": "text/x-python",
   "name": "python",
   "nbconvert_exporter": "python",
   "pygments_lexer": "ipython3",
   "version": "3.7.3"
  }
 },
 "nbformat": 4,
 "nbformat_minor": 5
}
