{
 "cells": [
  {
   "cell_type": "code",
   "execution_count": 5,
   "metadata": {},
   "outputs": [],
   "source": [
    "import torch\n",
    "import torch.nn as nn\n",
    "import torch.nn.functional as F\n",
    "import numpy as np\n",
    "import pandas as pd\n",
    "from Points import Points\n",
    "from sklearn.model_selection import train_test_split\n",
    "from sklearn.preprocessing import StandardScaler\n",
    "from itertools import chain\n",
    "import mediapipe as mp\n",
    "import glob\n",
    "import os\n",
    "import cv2"
   ]
  },
  {
   "cell_type": "code",
   "execution_count": 56,
   "metadata": {},
   "outputs": [
    {
     "name": "stdout",
     "output_type": "stream",
     "text": [
      "Using cuda device\n"
     ]
    }
   ],
   "source": [
    "device = \"cuda\" if torch.cuda.is_available() else \"cpu\"\n",
    "print(f\"Using {device} device\")"
   ]
  },
  {
   "cell_type": "code",
   "execution_count": 101,
   "metadata": {},
   "outputs": [],
   "source": [
    "mp_drawing = mp.solutions.drawing_utils\n",
    "mp_drawing_styles = mp.solutions.drawing_styles\n",
    "mp_face_mesh = mp.solutions.face_mesh\n",
    "\n",
    "# For static images:\n",
    "photo_landmark_dict = {}\n",
    "list_paths = []\n",
    "shapes = []\n",
    "\n",
    "# CK+ load\n",
    "for emotion in [\"anger\", \"contempt\", \"disgust\", \"fear\", \"happiness\", \"neutral\", \"sadness\", \"surprise\"]:\n",
    "    emo_folder_path = \"../Datasets/CK+/\" + emotion\n",
    "    for pic_file in glob.glob(os.path.join(emo_folder_path, \"*png\")):\n",
    "        list_paths.append([emotion, pic_file])\n",
    "\n",
    "# JAFFE load\n",
    "for pic_file in glob.glob(os.path.join(\"../Datasets/JAFFE\", \"*tiff\")):\n",
    "    if \"AN\" in pic_file[16:]:\n",
    "        list_paths.append([\"anger\", pic_file])\n",
    "    elif \"DI\" in pic_file[16:]:\n",
    "        list_paths.append([\"disgust\", pic_file])\n",
    "    elif \"FE\" in pic_file[16:]:\n",
    "        list_paths.append([\"fear\", pic_file])\n",
    "    elif \"HA\" in pic_file[16:]:\n",
    "        list_paths.append([\"happiness\", pic_file])\n",
    "    elif \"NE\" in pic_file[16:]:\n",
    "        list_paths.append([\"neutral\", pic_file])\n",
    "    elif \"SA\" in pic_file[16:]:\n",
    "        list_paths.append([\"sadness\", pic_file])\n",
    "    else:\n",
    "        list_paths.append([\"surprise\", pic_file])\n",
    "\n",
    "# FER-2013\n",
    "FER_emo_dict = {0:\"anger\", 1:\"disgust\", 2:\"fear\", 3:\"happiness\", 4:\"neutral\", 5:\"sadness\", 6:\"surprise\"}\n",
    "for set in [\"test/\", \"train/\"]:\n",
    "    root = \"../Datasets/FER2013/\" + set\n",
    "    for index, emotion in enumerate([\"angry\", \"disgust\", \"fear\", \"happy\", \"neutral\", \"sad\", \"surprise\"]):\n",
    "        emo_folder_path = root + emotion\n",
    "        for pic_file in glob.glob(os.path.join(emo_folder_path, \"*jpg\")):\n",
    "            list_paths.append([FER_emo_dict[index], pic_file])"
   ]
  },
  {
   "cell_type": "code",
   "execution_count": 100,
   "metadata": {},
   "outputs": [
    {
     "name": "stdout",
     "output_type": "stream",
     "text": [
      "30 29 32 31 30 31 30\n"
     ]
    }
   ],
   "source": [
    "angie = 0\n",
    "disgust = 0\n",
    "fe = 0\n",
    "ha = 0\n",
    "ne = 0\n",
    "sa = 0\n",
    "su = 0\n",
    "for pic_file in glob.glob(os.path.join(\"../Datasets/JAFFE/\", \"*tiff\")):\n",
    "    if \"AN\" in pic_file[16:]:\n",
    "        angie +=1\n",
    "    elif \"DI\" in pic_file[16:]:\n",
    "        disgust +=1\n",
    "    elif \"FE\" in pic_file[16:]:\n",
    "        fe +=1\n",
    "    elif \"HA\" in pic_file[16:]:\n",
    "        ha +=1\n",
    "    elif \"NE\" in pic_file[16:]:\n",
    "        ne +=1\n",
    "    elif \"SA\" in pic_file[16:]:\n",
    "        sa +=1\n",
    "    else:\n",
    "        su +=1\n",
    "print(angie, disgust, fe, ha, ne, sa, su)"
   ]
  },
  {
   "cell_type": "code",
   "execution_count": null,
   "metadata": {},
   "outputs": [],
   "source": [
    "skipped = 0\n",
    "\n",
    "drawing_spec = mp_drawing.DrawingSpec(thickness=1, circle_radius=1)\n",
    "with mp_face_mesh.FaceMesh(\n",
    "    static_image_mode=True,\n",
    "    max_num_faces=1,\n",
    "    refine_landmarks=True,\n",
    "    min_detection_confidence=0.2) as face_mesh:\n",
    "    for idx, [emo, file] in enumerate(list_paths):\n",
    "        image = cv2.imread(file, 0)\n",
    "        # Convert the BGR image to RGB before processing.\n",
    "        results = face_mesh.process(cv2.cvtColor(image, cv2.COLOR_BGR2RGB))\n",
    "\n",
    "        if results.multi_face_landmarks is not None:\n",
    "            photo_landmark_dict[idx-skipped] = [emo]\n",
    "            x_coords = []\n",
    "            y_coords = []\n",
    "            z_coords = []\n",
    "            for count, mark in enumerate(results.multi_face_landmarks[0].landmark):\n",
    "                x_coords.append(mark.x)\n",
    "                y_coords.append(mark.y)\n",
    "                z_coords.append(mark.z)\n",
    "\n",
    "                # MUST CROP PHOTO FIRST AND THEN STUFF.\n",
    "            shape = image.shape\n",
    "\n",
    "            x_coords = [x * shape[0] for x in x_coords]\n",
    "            y_coords = [y * shape[1] for y in y_coords]\n",
    "\n",
    "            range_x = max(x_coords) - min(x_coords)\n",
    "            range_y = max(y_coords) - min(y_coords)\n",
    "            offset_x = [x - min(x_coords) for x in x_coords]\n",
    "            offset_y = [y - min(y_coords) for y in y_coords]\n",
    "            new_x = [x / range_x for x in offset_x]\n",
    "            new_y = [y / range_y for y in offset_y]\n",
    "\n",
    "            photo_landmark_dict[idx-skipped][1:479] = zip(new_x, new_y, z_coords)\n",
    "        else:\n",
    "            skipped += 1\n",
    "        if idx % 200 == 0:\n",
    "            print(idx)\n",
    "            print(f\"length: {len(photo_landmark_dict[idx-skipped])}\")\n",
    "\n",
    "\n",
    "print(skipped)\n",
    "#print(len(photo_landmark_dict[0]))"
   ]
  },
  {
   "cell_type": "code",
   "execution_count": 103,
   "metadata": {},
   "outputs": [],
   "source": [
    "'''for a in photo_landmark_dict.keys():\n",
    "    if len(photo_landmark_dict[a]) != 479:\n",
    "        print(a)\n",
    "        print(f\"weird thing: {photo_landmark_dict[a]}\")'''\n",
    "        \n",
    "dataframe = pd.DataFrame(data=photo_landmark_dict)\n",
    "#print(dataframe.head())\n",
    "#print(dataframe.tail())\n",
    "dataframe.to_json(\"./photo_landmark_list.json\", orient='columns')"
   ]
  },
  {
   "cell_type": "markdown",
   "metadata": {},
   "source": [
    "LINE BREAK :)"
   ]
  },
  {
   "cell_type": "code",
   "execution_count": 179,
   "metadata": {},
   "outputs": [],
   "source": [
    "emotion_dict = {\"anger\": 0, \"contempt\": 1, \"disgust\": 2, \"fear\": 3, \"happiness\": 4, \"neutral\": 5, \"sadness\": 6,\"sad\": 6,\n",
    "            \"surprise\": 6}\n",
    "\n",
    "def read_data(path, label_points):\n",
    "    '''Path for json with '''\n",
    "    landmarks = pd.read_json(path)\n",
    "    emotions = np.asarray([emotion_dict[y] for y in landmarks.iloc[0].astype(object)], dtype=np.float32)\n",
    "    columns = landmarks.shape[1]\n",
    "    points = []\n",
    "    for photo in range(columns):\n",
    "        for point in label_points:\n",
    "            coords = landmarks[photo].iloc[point+1][0:2]\n",
    "            points.extend(coords)\n",
    "\n",
    "    points = np.array(points, dtype=np.float32).reshape(35836, len(label_points*2)) # EDIT THINGS HERE\n",
    "\n",
    "    print(f\"shape at the end: {points.shape}\")\n",
    "    return emotions, points\n",
    "    \n",
    "def select_points(emotions, points, training_ratio):\n",
    "    X_train, X_test, y_train, y_test = train_test_split(points, emotions, \n",
    "                                                        test_size=(1-training_ratio), random_state=1234)\n",
    "    \n",
    "    X_train = torch.from_numpy(X_train)\n",
    "    X_test = torch.from_numpy(X_test)\n",
    "    \n",
    "    ''' new_y_train = np.zeros([y_train.shape[0], 7])\n",
    "    for index in range(y_train.shape[0]):\n",
    "        if int(y_train[index]) != emotion_dict[\"neutral\"]:\n",
    "            new_y_train[index][int(y_train[index])] = 1\n",
    "    \n",
    "    new_y_test = np.zeros([y_test.shape[0], 7])\n",
    "    for index in range(y_test.shape[0]):\n",
    "        if int(y_test[index]) != emotion_dict[\"neutral\"]:\n",
    "            new_y_test[index][int(y_test[index])] = 1'''\n",
    "        \n",
    "    \n",
    "    y_train = torch.from_numpy(y_train)\n",
    "    y_test = torch.from_numpy(y_test)\n",
    "    \n",
    "    \n",
    "    return X_train, X_test, y_train, y_test\n",
    "    "
   ]
  },
  {
   "cell_type": "code",
   "execution_count": 180,
   "metadata": {},
   "outputs": [
    {
     "name": "stdout",
     "output_type": "stream",
     "text": [
      "shape at the end: (35836, 268)\n"
     ]
    }
   ],
   "source": [
    "# 1)\n",
    "min_wanted_points = Points.right_eye_middle.value + Points.left_eye_middle.value + Points.nose.value + Points.mouth_inner.value\n",
    "max_wanted_points = min_wanted_points + Points.right_eye_inner.value + Points.right_eye_outer.value + \\\n",
    "        Points.left_eye_inner.value + Points.left_eye_outer.value\n",
    "\n",
    "emotions, points = read_data(\"./photo_landmark_list.json\", max_wanted_points)\n",
    "X_train, X_test, y_train, y_test = select_points(emotions, points, .95)"
   ]
  },
  {
   "cell_type": "code",
   "execution_count": 182,
   "metadata": {},
   "outputs": [
    {
     "name": "stdout",
     "output_type": "stream",
     "text": [
      "tensor([6., 4., 4., 5., 4., 3., 6., 5., 4., 6.])\n"
     ]
    }
   ],
   "source": [
    "print(y_train[:10])"
   ]
  },
  {
   "cell_type": "code",
   "execution_count": 37,
   "metadata": {},
   "outputs": [],
   "source": [
    "# Neural Net model\n",
    "\n",
    "# 1) Model\n",
    "# Linear model f = wx + b , sigmoid at the end\n",
    "class Model(nn.Module):\n",
    "    def __init__(self, n_input_features):\n",
    "        super(Model, self).__init__()\n",
    "        self.fc1 = nn.Linear(n_input_features, 256)\n",
    "        self.fc2 = nn.Linear(256, 128)\n",
    "        self.fc3 = nn.Linear(128, 7)\n",
    "\n",
    "    def forward(self, x):\n",
    "        x = x.view(-1, 268)\n",
    "        x = F.relu(self.fc1(x))\n",
    "        x = F.relu(self.fc2(x))\n",
    "        x = self.fc3(x)\n",
    "        return x\n",
    "\n",
    "model = Model(268)"
   ]
  },
  {
   "cell_type": "code",
   "execution_count": 317,
   "metadata": {},
   "outputs": [],
   "source": [
    "# Neural Net model\n",
    "\n",
    "# 1) Model\n",
    "# Linear model f = wx + b , sigmoid at the end\n",
    "class Model(nn.Module):\n",
    "    def __init__(self, n_input_features):\n",
    "        super(Model, self).__init__()\n",
    "        self.n = n_input_features\n",
    "        self.fc1 = nn.Linear(n_input_features, 400)\n",
    "        self.fc2 = nn.Linear(400, 120)\n",
    "        self.fc3 = nn.Linear(120, 84)\n",
    "        self.fc4 = nn.Linear(84, 7)\n",
    "        \n",
    "        self.t = nn.Threshold(.5, 1)\n",
    "\n",
    "    def forward(self, x):\n",
    "        #x.reshape(1, self.n)\n",
    "        #x = torch.flatten(x, 1)\n",
    "        _X = 0\n",
    "        '''x = self.t(self.fc1(x))\n",
    "        x = self.t(self.fc2(x))\n",
    "        x = self.t(self.fc3(x))'''\n",
    "        # F.relu\n",
    "        #nn.tanh\n",
    "        # torch.sigmoid\n",
    "        \n",
    "        x = torch.relu(self.fc1(x))\n",
    "        x = torch.relu(self.fc2(x))\n",
    "        x = torch.relu(self.fc3(x))\n",
    "        \n",
    "        x = self.fc4(x)\n",
    "        x = F.softmax(x, dim=_X)\n",
    "        return x"
   ]
  },
  {
   "cell_type": "code",
   "execution_count": 318,
   "metadata": {},
   "outputs": [],
   "source": [
    "model = Model(268)"
   ]
  },
  {
   "cell_type": "code",
   "execution_count": 324,
   "metadata": {},
   "outputs": [],
   "source": [
    "# 2) Loss and optimizer\n",
    "num_epochs = 10\n",
    "learning_rate = 0.01\n",
    "criterion = nn.CrossEntropyLoss()\n",
    "#criterion = nn.L1Loss(size_average=None, reduce=None, reduction='mean')\n",
    "#optimizer = torch.optim.Adam(model.parameters(), lr=learning_rate)\n",
    "optimizer = torch.optim.SGD(model.parameters(), lr=0.001, momentum=0.9)\n",
    "#optimizer = torch.optim.SGD(model.parameters(), lr=0.00033, momentum=0)\n"
   ]
  },
  {
   "cell_type": "code",
   "execution_count": 325,
   "metadata": {},
   "outputs": [
    {
     "name": "stdout",
     "output_type": "stream",
     "text": [
      "[1, 4000] loss: 1.856\n",
      "[1, 8000] loss: 1.844\n",
      "[1, 12000] loss: 1.848\n",
      "[1, 16000] loss: 1.835\n",
      "[1, 20000] loss: 1.835\n",
      "[1, 24000] loss: 1.823\n",
      "[1, 28000] loss: 1.805\n",
      "[1, 32000] loss: 1.818\n",
      "[2, 4000] loss: 1.790\n",
      "[2, 8000] loss: 1.779\n",
      "[2, 12000] loss: 1.794\n",
      "[2, 16000] loss: 1.771\n",
      "[2, 20000] loss: 1.781\n",
      "[2, 24000] loss: 1.800\n",
      "[2, 28000] loss: 1.763\n",
      "[2, 32000] loss: 1.805\n",
      "[3, 4000] loss: 1.802\n",
      "[3, 8000] loss: 1.777\n",
      "[3, 12000] loss: 1.763\n",
      "[3, 16000] loss: 1.790\n",
      "[3, 20000] loss: 1.788\n",
      "[3, 24000] loss: 1.763\n",
      "[3, 28000] loss: 1.741\n",
      "[3, 32000] loss: 1.788\n",
      "[4, 4000] loss: 1.752\n",
      "[4, 8000] loss: 1.737\n",
      "[4, 12000] loss: 1.750\n",
      "[4, 16000] loss: 1.734\n",
      "[4, 20000] loss: 1.748\n",
      "[4, 24000] loss: 1.763\n",
      "[4, 28000] loss: 1.733\n",
      "[4, 32000] loss: 1.748\n",
      "[5, 4000] loss: 1.748\n",
      "[5, 8000] loss: 1.740\n",
      "[5, 12000] loss: 1.738\n",
      "[5, 16000] loss: 1.731\n",
      "[5, 20000] loss: 1.741\n",
      "[5, 24000] loss: 1.740\n",
      "[5, 28000] loss: 1.719\n",
      "[5, 32000] loss: 1.730\n",
      "[6, 4000] loss: 1.736\n",
      "[6, 8000] loss: 1.728\n",
      "[6, 12000] loss: 1.735\n",
      "[6, 16000] loss: 1.722\n",
      "[6, 20000] loss: 1.740\n",
      "[6, 24000] loss: 1.732\n",
      "[6, 28000] loss: 1.716\n",
      "[6, 32000] loss: 1.776\n",
      "[7, 4000] loss: 1.735\n",
      "[7, 8000] loss: 1.714\n",
      "[7, 12000] loss: 1.729\n",
      "[7, 16000] loss: 1.723\n",
      "[7, 20000] loss: 1.732\n",
      "[7, 24000] loss: 1.731\n",
      "[7, 28000] loss: 1.714\n",
      "[7, 32000] loss: 1.721\n",
      "[8, 4000] loss: 1.733\n",
      "[8, 8000] loss: 1.714\n",
      "[8, 12000] loss: 1.727\n",
      "[8, 16000] loss: 1.715\n",
      "[8, 20000] loss: 1.736\n",
      "[8, 24000] loss: 1.730\n",
      "[8, 28000] loss: 1.718\n",
      "[8, 32000] loss: 1.716\n",
      "[9, 4000] loss: 1.735\n",
      "[9, 8000] loss: 1.713\n",
      "[9, 12000] loss: 1.726\n",
      "[9, 16000] loss: 1.708\n",
      "[9, 20000] loss: 1.724\n",
      "[9, 24000] loss: 1.726\n",
      "[9, 28000] loss: 1.706\n",
      "[9, 32000] loss: 1.717\n",
      "[10, 4000] loss: 1.726\n",
      "[10, 8000] loss: 1.713\n",
      "[10, 12000] loss: 1.728\n",
      "[10, 16000] loss: 1.715\n",
      "[10, 20000] loss: 1.725\n",
      "[10, 24000] loss: 1.724\n",
      "[10, 28000] loss: 1.711\n",
      "[10, 32000] loss: 1.717\n"
     ]
    }
   ],
   "source": [
    "# 3) Training loop\n",
    "\n",
    "for epoch in range(num_epochs):\n",
    "    running_loss = 0\n",
    "    for batch, row in enumerate(X_train):\n",
    "\n",
    "        optimizer.zero_grad()\n",
    "\n",
    "        # Forward pass and loss\n",
    "        y_pred = model(row)\n",
    "        #y_pred = torch.from_numpy(np.reshape(y_pred.detach().numpy(), (1,7)))\n",
    "        y_pred = torch.reshape(y_pred, (1,7))\n",
    "        \n",
    "        y_target = torch.tensor([int(y_train[batch])])\n",
    "        torch.reshape(y_target, (-1,))\n",
    "       \n",
    "        loss = criterion(input=y_pred, target=y_target)\n",
    "\n",
    "        # Backward pass and update\n",
    "        loss.backward()\n",
    "        optimizer.step()\n",
    "        running_loss += loss.item()\n",
    "        \n",
    "        if batch % 4000 == 3999:\n",
    "            print(f'[{epoch + 1}, {batch + 1}] loss: {running_loss / 4000:.3f}')\n",
    "            running_loss = 0\n"
   ]
  },
  {
   "cell_type": "code",
   "execution_count": 326,
   "metadata": {},
   "outputs": [
    {
     "name": "stdout",
     "output_type": "stream",
     "text": [
      "396 1792\n",
      "accuracy of the network on the 1792 test images: 22.098214285714285 %\n"
     ]
    }
   ],
   "source": [
    "correct = 0\n",
    "total = 0\n",
    "\n",
    "with torch.no_grad():\n",
    "    outputs = model(X_test)\n",
    "    _, predicted = torch.max(outputs.data, 1)\n",
    "    total += y_test.size(0)\n",
    "    correct += (predicted == y_test).sum().item()\n",
    "\n",
    "print(correct, total)    \n",
    "print(f'accuracy of the network on the 1792 test images: {100 * correct / total} %')"
   ]
  },
  {
   "cell_type": "code",
   "execution_count": 327,
   "metadata": {},
   "outputs": [
    {
     "name": "stdout",
     "output_type": "stream",
     "text": [
      "6481 34044\n",
      "accuracy of the network on the 34044 train images: 19.037128422042063 %\n"
     ]
    }
   ],
   "source": [
    "correct = 0\n",
    "total = 0\n",
    "\n",
    "with torch.no_grad():\n",
    "    outputs = model(X_train)\n",
    "    _, predicted = torch.max(outputs.data, 1)\n",
    "    total += y_train.size(0)\n",
    "\n",
    "    correct += (predicted == y_train).sum().item()\n",
    "    \n",
    "print(correct, total)    \n",
    "print(f'accuracy of the network on the 34044 train images: {100 * correct / total} %')\n"
   ]
  },
  {
   "cell_type": "code",
   "execution_count": 328,
   "metadata": {},
   "outputs": [],
   "source": [
    "torch.save(model.state_dict(), \"./models/v4-10-model.pt\")"
   ]
  },
  {
   "cell_type": "markdown",
   "metadata": {},
   "source": [
    "# "
   ]
  }
 ],
 "metadata": {
  "kernelspec": {
   "display_name": "Python 3",
   "language": "python",
   "name": "python3"
  },
  "language_info": {
   "codemirror_mode": {
    "name": "ipython",
    "version": 3
   },
   "file_extension": ".py",
   "mimetype": "text/x-python",
   "name": "python",
   "nbconvert_exporter": "python",
   "pygments_lexer": "ipython3",
   "version": "3.7.3"
  }
 },
 "nbformat": 4,
 "nbformat_minor": 5
}
