{
 "cells": [
  {
   "cell_type": "code",
   "execution_count": 4,
   "id": "80c978b6",
   "metadata": {},
   "outputs": [
    {
     "name": "stderr",
     "output_type": "stream",
     "text": [
      "/Users/Fritz/opt/anaconda3/envs/PyCharm/lib/python3.9/site-packages/tqdm/auto.py:22: TqdmWarning: IProgress not found. Please update jupyter and ipywidgets. See https://ipywidgets.readthedocs.io/en/stable/user_install.html\n",
      "  from .autonotebook import tqdm as notebook_tqdm\n"
     ]
    }
   ],
   "source": [
    "import torch\n",
    "import torch.nn as nn\n",
    "import torch.nn.functional as F\n",
    "import numpy as np\n",
    "import pandas as pd\n",
    "from Points import Points\n",
    "from sklearn.model_selection import train_test_split\n",
    "from sklearn.preprocessing import StandardScaler\n",
    "from itertools import chain\n",
    "import mediapipe as mp\n",
    "import glob\n",
    "import os\n",
    "import cv2"
   ]
  },
  {
   "cell_type": "code",
   "execution_count": 5,
   "id": "dbede786",
   "metadata": {},
   "outputs": [
    {
     "name": "stdout",
     "output_type": "stream",
     "text": [
      "Using cpu device\n"
     ]
    }
   ],
   "source": [
    "device = \"cuda\" if torch.cuda.is_available() else \"cpu\"\n",
    "print(f\"Using {device} device\")"
   ]
  },
  {
   "cell_type": "code",
   "execution_count": 101,
   "id": "be5884ac",
   "metadata": {},
   "outputs": [],
   "source": [
    "mp_drawing = mp.solutions.drawing_utils\n",
    "mp_drawing_styles = mp.solutions.drawing_styles\n",
    "mp_face_mesh = mp.solutions.face_mesh\n",
    "\n",
    "# For static images:\n",
    "photo_landmark_dict = {}\n",
    "list_paths = []\n",
    "shapes = []\n",
    "\n",
    "# CK+ load\n",
    "for emotion in [\"anger\", \"contempt\", \"disgust\", \"fear\", \"happiness\", \"neutral\", \"sadness\", \"surprise\"]:\n",
    "    emo_folder_path = \"../Datasets/CK+/\" + emotion\n",
    "    for pic_file in glob.glob(os.path.join(emo_folder_path, \"*png\")):\n",
    "        list_paths.append([emotion, pic_file])\n",
    "\n",
    "# JAFFE load\n",
    "for pic_file in glob.glob(os.path.join(\"../Datasets/JAFFE\", \"*tiff\")):\n",
    "    if \"AN\" in pic_file[16:]:\n",
    "        list_paths.append([\"anger\", pic_file])\n",
    "    elif \"DI\" in pic_file[16:]:\n",
    "        list_paths.append([\"disgust\", pic_file])\n",
    "    elif \"FE\" in pic_file[16:]:\n",
    "        list_paths.append([\"fear\", pic_file])\n",
    "    elif \"HA\" in pic_file[16:]:\n",
    "        list_paths.append([\"happiness\", pic_file])\n",
    "    elif \"NE\" in pic_file[16:]:\n",
    "        list_paths.append([\"neutral\", pic_file])\n",
    "    elif \"SA\" in pic_file[16:]:\n",
    "        list_paths.append([\"sadness\", pic_file])\n",
    "    else:\n",
    "        list_paths.append([\"surprise\", pic_file])\n",
    "\n",
    "# FER-2013\n",
    "FER_emo_dict = {0:\"anger\", 1:\"disgust\", 2:\"fear\", 3:\"happiness\", 4:\"neutral\", 5:\"sadness\", 6:\"surprise\"}\n",
    "for set in [\"test/\", \"train/\"]:\n",
    "    root = \"../Datasets/FER2013/\" + set\n",
    "    for index, emotion in enumerate([\"angry\", \"disgust\", \"fear\", \"happy\", \"neutral\", \"sad\", \"surprise\"]):\n",
    "        emo_folder_path = root + emotion\n",
    "        for pic_file in glob.glob(os.path.join(emo_folder_path, \"*jpg\")):\n",
    "            list_paths.append([FER_emo_dict[index], pic_file])"
   ]
  },
  {
   "cell_type": "code",
   "execution_count": 100,
   "id": "e2e2632d",
   "metadata": {},
   "outputs": [
    {
     "name": "stdout",
     "output_type": "stream",
     "text": [
      "30 29 32 31 30 31 30\n"
     ]
    }
   ],
   "source": [
    "angie = 0\n",
    "disgust = 0\n",
    "fe = 0\n",
    "ha = 0\n",
    "ne = 0\n",
    "sa = 0\n",
    "su = 0\n",
    "for pic_file in glob.glob(os.path.join(\"../Datasets/JAFFE/\", \"*tiff\")):\n",
    "    if \"AN\" in pic_file[16:]:\n",
    "        angie +=1\n",
    "    elif \"DI\" in pic_file[16:]:\n",
    "        disgust +=1\n",
    "    elif \"FE\" in pic_file[16:]:\n",
    "        fe +=1\n",
    "    elif \"HA\" in pic_file[16:]:\n",
    "        ha +=1\n",
    "    elif \"NE\" in pic_file[16:]:\n",
    "        ne +=1\n",
    "    elif \"SA\" in pic_file[16:]:\n",
    "        sa +=1\n",
    "    else:\n",
    "        su +=1\n",
    "print(angie, disgust, fe, ha, ne, sa, su)"
   ]
  },
  {
   "cell_type": "code",
   "execution_count": null,
   "id": "f7ed9757",
   "metadata": {},
   "outputs": [],
   "source": [
    "skipped = 0\n",
    "\n",
    "drawing_spec = mp_drawing.DrawingSpec(thickness=1, circle_radius=1)\n",
    "with mp_face_mesh.FaceMesh(\n",
    "    static_image_mode=True,\n",
    "    max_num_faces=1,\n",
    "    refine_landmarks=True,\n",
    "    min_detection_confidence=0.2) as face_mesh:\n",
    "    for idx, [emo, file] in enumerate(list_paths):\n",
    "        image = cv2.imread(file, 0)\n",
    "        # Convert the BGR image to RGB before processing.\n",
    "        results = face_mesh.process(cv2.cvtColor(image, cv2.COLOR_BGR2RGB))\n",
    "\n",
    "        if results.multi_face_landmarks is not None:\n",
    "            photo_landmark_dict[idx-skipped] = [emo]\n",
    "            x_coords = []\n",
    "            y_coords = []\n",
    "            z_coords = []\n",
    "            for count, mark in enumerate(results.multi_face_landmarks[0].landmark):\n",
    "                x_coords.append(mark.x)\n",
    "                y_coords.append(mark.y)\n",
    "                z_coords.append(mark.z)\n",
    "\n",
    "                # MUST CROP PHOTO FIRST AND THEN STUFF.\n",
    "            shape = image.shape\n",
    "\n",
    "            x_coords = [x * shape[0] for x in x_coords]\n",
    "            y_coords = [y * shape[1] for y in y_coords]\n",
    "\n",
    "            range_x = max(x_coords) - min(x_coords)\n",
    "            range_y = max(y_coords) - min(y_coords)\n",
    "            offset_x = [x - min(x_coords) for x in x_coords]\n",
    "            offset_y = [y - min(y_coords) for y in y_coords]\n",
    "            new_x = [x / range_x for x in offset_x]\n",
    "            new_y = [y / range_y for y in offset_y]\n",
    "\n",
    "            photo_landmark_dict[idx-skipped][1:479] = zip(new_x, new_y, z_coords)\n",
    "        else:\n",
    "            skipped += 1\n",
    "        if idx % 200 == 0:\n",
    "            print(idx)\n",
    "            print(f\"length: {len(photo_landmark_dict[idx-skipped])}\")\n",
    "\n",
    "\n",
    "print(skipped)\n",
    "#print(len(photo_landmark_dict[0]))"
   ]
  },
  {
   "cell_type": "code",
   "execution_count": 103,
   "id": "89e8101d",
   "metadata": {},
   "outputs": [],
   "source": [
    "'''for a in photo_landmark_dict.keys():\n",
    "    if len(photo_landmark_dict[a]) != 479:\n",
    "        print(a)\n",
    "        print(f\"weird thing: {photo_landmark_dict[a]}\")'''\n",
    "        \n",
    "dataframe = pd.DataFrame(data=photo_landmark_dict)\n",
    "#print(dataframe.head())\n",
    "#print(dataframe.tail())\n",
    "dataframe.to_json(\"./photo_landmark_list.json\", orient='columns')"
   ]
  },
  {
   "cell_type": "markdown",
   "id": "63b50e28",
   "metadata": {},
   "source": [
    "LINE BREAK :)"
   ]
  },
  {
   "cell_type": "code",
   "execution_count": 7,
   "id": "1a8958c8",
   "metadata": {},
   "outputs": [],
   "source": [
    "emotion_dict = {\"anger\": 0, \"contempt\": 1, \"disgust\": 2, \"fear\": 3, \"happiness\": 4, \"neutral\": 5, \"sadness\": 6,\"sad\": 6,\n",
    "            \"surprise\": 6}\n",
    "\n",
    "def read_data(path, label_points):\n",
    "    '''Path for json with '''\n",
    "    landmarks = pd.read_json(path)\n",
    "    emotions = np.asarray([emotion_dict[y]/6 for y in landmarks.iloc[0].astype(object)], dtype=np.float32)\n",
    "    columns = landmarks.shape[1]\n",
    "    points = []\n",
    "    for photo in range(columns):\n",
    "        for point in label_points:\n",
    "            coords = landmarks[photo].iloc[point+1][0:2]\n",
    "            points.extend(coords)\n",
    "\n",
    "    points = np.array(points, dtype=np.float32).reshape(35836, len(label_points*2)) # EDIT THINGS HERE\n",
    "\n",
    "    print(f\"shape at the end: {points.shape}\")\n",
    "    return emotions, points\n",
    "    \n",
    "def select_points(emotions, points, training_ratio):\n",
    "    X_train, X_test, y_train, y_test = train_test_split(points, emotions, \n",
    "                                                        test_size=(1-training_ratio), random_state=1234)\n",
    "    \n",
    "    X_train = torch.from_numpy(X_train)\n",
    "    X_test = torch.from_numpy(X_test)\n",
    "        \n",
    "    \n",
    "    y_train = torch.from_numpy(y_train)\n",
    "    y_test = torch.from_numpy(y_test)\n",
    "    \n",
    "    \n",
    "    return X_train, X_test, y_train, y_test\n",
    "    "
   ]
  },
  {
   "cell_type": "code",
   "execution_count": 8,
   "id": "3b61790c",
   "metadata": {},
   "outputs": [
    {
     "name": "stdout",
     "output_type": "stream",
     "text": [
      "shape at the end: (35836, 268)\n"
     ]
    }
   ],
   "source": [
    "# 1)\n",
    "min_wanted_points = Points.right_eye_middle.value + Points.left_eye_middle.value + Points.nose.value + Points.mouth_inner.value\n",
    "max_wanted_points = min_wanted_points + Points.right_eye_inner.value + Points.right_eye_outer.value + \\\n",
    "        Points.left_eye_inner.value + Points.left_eye_outer.value\n",
    "\n",
    "emotions, points = read_data(\"./photo_landmark_list.json\", max_wanted_points)\n",
    "X_train, X_test, y_train, y_test = select_points(emotions, points, .95)"
   ]
  },
  {
   "cell_type": "code",
   "execution_count": 84,
   "id": "6e577bdc",
   "metadata": {},
   "outputs": [
    {
     "data": {
      "text/plain": [
       "tensor([[6.],\n",
       "        [4.],\n",
       "        [0.],\n",
       "        ...,\n",
       "        [4.],\n",
       "        [4.],\n",
       "        [6.]])"
      ]
     },
     "execution_count": 84,
     "metadata": {},
     "output_type": "execute_result"
    }
   ],
   "source": [
    "y_test.reshape(1792,1)"
   ]
  },
  {
   "cell_type": "code",
   "execution_count": 37,
   "id": "530d8fc3",
   "metadata": {},
   "outputs": [],
   "source": [
    "# Neural Net model\n",
    "\n",
    "# 1) Model\n",
    "# Linear model f = wx + b , sigmoid at the end\n",
    "class Model(nn.Module):\n",
    "    def __init__(self, n_input_features):\n",
    "        super(Model, self).__init__()\n",
    "        self.fc1 = nn.Linear(n_input_features, 256)\n",
    "        self.fc2 = nn.Linear(256, 128)\n",
    "        self.fc3 = nn.Linear(128, 7)\n",
    "\n",
    "    def forward(self, x):\n",
    "        x = x.view(-1, 268)\n",
    "        x = F.relu(self.fc1(x))\n",
    "        x = F.relu(self.fc2(x))\n",
    "        x = self.fc3(x)\n",
    "        return x\n",
    "\n",
    "model = Model(268)"
   ]
  },
  {
   "cell_type": "code",
   "execution_count": 9,
   "id": "5f39dd92",
   "metadata": {},
   "outputs": [],
   "source": [
    "# Neural Net model\n",
    "\n",
    "# 1) Model\n",
    "# Linear model f = wx + b , sigmoid at the end\n",
    "class Model(nn.Module):\n",
    "    def __init__(self, n_input_features):\n",
    "        super(Model, self).__init__()\n",
    "        self.fc1 = nn.Linear(n_input_features, 512)\n",
    "        self.fc2 = nn.Linear(512, 256)\n",
    "        self.fc3 = nn.Linear(256, 128)\n",
    "        self.fc4 = nn.Linear(128, 1)\n",
    "        \n",
    "        self.t = nn.Threshold(.5, 1)\n",
    "\n",
    "    def forward(self, x):\n",
    "        x = x.view(-1, 268)\n",
    "        x = self.t(self.fc1(x))\n",
    "        x = self.t(self.fc2(x))\n",
    "        x = self.t(self.fc3(x))\n",
    "        x = self.fc4(x)\n",
    "        X = 1\n",
    "        x = F.softmax(x, dim=X)\n",
    "        return x\n",
    "\n",
    "model = Model(268)"
   ]
  },
  {
   "cell_type": "code",
   "execution_count": 10,
   "id": "c0841829",
   "metadata": {},
   "outputs": [],
   "source": [
    "# 2) Loss and optimizer\n",
    "num_epochs = 1\n",
    "learning_rate = 0.01\n",
    "criterion = nn.CrossEntropyLoss()\n",
    "#criterion = nn.L1Loss(size_average=None, reduce=None, reduction='mean')\n",
    "optimizer = torch.optim.Adam(model.parameters(), lr=learning_rate)"
   ]
  },
  {
   "cell_type": "code",
   "execution_count": 11,
   "id": "e5eff94d",
   "metadata": {},
   "outputs": [
    {
     "name": "stdout",
     "output_type": "stream",
     "text": [
      "tensor([[1.]], grad_fn=<SoftmaxBackward0>)\n",
      "tensor(1.)\n"
     ]
    },
    {
     "ename": "IndexError",
     "evalue": "Target 1 is out of bounds.",
     "output_type": "error",
     "traceback": [
      "\u001b[0;31m---------------------------------------------------------------------------\u001b[0m",
      "\u001b[0;31mIndexError\u001b[0m                                Traceback (most recent call last)",
      "Input \u001b[0;32mIn [11]\u001b[0m, in \u001b[0;36m<cell line: 3>\u001b[0;34m()\u001b[0m\n\u001b[1;32m     10\u001b[0m \u001b[38;5;28mprint\u001b[39m(y_pred)\n\u001b[1;32m     11\u001b[0m \u001b[38;5;28mprint\u001b[39m(y_train[index])\n\u001b[0;32m---> 12\u001b[0m loss \u001b[38;5;241m=\u001b[39m \u001b[43mcriterion\u001b[49m\u001b[43m(\u001b[49m\u001b[43my_pred\u001b[49m\u001b[43m,\u001b[49m\u001b[43m \u001b[49m\u001b[43my_train\u001b[49m\u001b[43m[\u001b[49m\u001b[43mindex\u001b[49m\u001b[43m]\u001b[49m\u001b[38;5;241;43m.\u001b[39;49m\u001b[43mtype\u001b[49m\u001b[43m(\u001b[49m\u001b[43mtorch\u001b[49m\u001b[38;5;241;43m.\u001b[39;49m\u001b[43mLongTensor\u001b[49m\u001b[43m)\u001b[49m\u001b[38;5;241;43m.\u001b[39;49m\u001b[43mview\u001b[49m\u001b[43m(\u001b[49m\u001b[38;5;241;43m1\u001b[39;49m\u001b[43m)\u001b[49m\u001b[43m)\u001b[49m\n\u001b[1;32m     14\u001b[0m \u001b[38;5;66;03m# Backward pass and update\u001b[39;00m\n\u001b[1;32m     15\u001b[0m loss\u001b[38;5;241m.\u001b[39mbackward()\n",
      "File \u001b[0;32m~/opt/anaconda3/envs/PyCharm/lib/python3.9/site-packages/torch/nn/modules/module.py:1110\u001b[0m, in \u001b[0;36mModule._call_impl\u001b[0;34m(self, *input, **kwargs)\u001b[0m\n\u001b[1;32m   1106\u001b[0m \u001b[38;5;66;03m# If we don't have any hooks, we want to skip the rest of the logic in\u001b[39;00m\n\u001b[1;32m   1107\u001b[0m \u001b[38;5;66;03m# this function, and just call forward.\u001b[39;00m\n\u001b[1;32m   1108\u001b[0m \u001b[38;5;28;01mif\u001b[39;00m \u001b[38;5;129;01mnot\u001b[39;00m (\u001b[38;5;28mself\u001b[39m\u001b[38;5;241m.\u001b[39m_backward_hooks \u001b[38;5;129;01mor\u001b[39;00m \u001b[38;5;28mself\u001b[39m\u001b[38;5;241m.\u001b[39m_forward_hooks \u001b[38;5;129;01mor\u001b[39;00m \u001b[38;5;28mself\u001b[39m\u001b[38;5;241m.\u001b[39m_forward_pre_hooks \u001b[38;5;129;01mor\u001b[39;00m _global_backward_hooks\n\u001b[1;32m   1109\u001b[0m         \u001b[38;5;129;01mor\u001b[39;00m _global_forward_hooks \u001b[38;5;129;01mor\u001b[39;00m _global_forward_pre_hooks):\n\u001b[0;32m-> 1110\u001b[0m     \u001b[38;5;28;01mreturn\u001b[39;00m \u001b[43mforward_call\u001b[49m\u001b[43m(\u001b[49m\u001b[38;5;241;43m*\u001b[39;49m\u001b[38;5;28;43minput\u001b[39;49m\u001b[43m,\u001b[49m\u001b[43m \u001b[49m\u001b[38;5;241;43m*\u001b[39;49m\u001b[38;5;241;43m*\u001b[39;49m\u001b[43mkwargs\u001b[49m\u001b[43m)\u001b[49m\n\u001b[1;32m   1111\u001b[0m \u001b[38;5;66;03m# Do not call functions when jit is used\u001b[39;00m\n\u001b[1;32m   1112\u001b[0m full_backward_hooks, non_full_backward_hooks \u001b[38;5;241m=\u001b[39m [], []\n",
      "File \u001b[0;32m~/opt/anaconda3/envs/PyCharm/lib/python3.9/site-packages/torch/nn/modules/loss.py:1163\u001b[0m, in \u001b[0;36mCrossEntropyLoss.forward\u001b[0;34m(self, input, target)\u001b[0m\n\u001b[1;32m   1162\u001b[0m \u001b[38;5;28;01mdef\u001b[39;00m \u001b[38;5;21mforward\u001b[39m(\u001b[38;5;28mself\u001b[39m, \u001b[38;5;28minput\u001b[39m: Tensor, target: Tensor) \u001b[38;5;241m-\u001b[39m\u001b[38;5;241m>\u001b[39m Tensor:\n\u001b[0;32m-> 1163\u001b[0m     \u001b[38;5;28;01mreturn\u001b[39;00m \u001b[43mF\u001b[49m\u001b[38;5;241;43m.\u001b[39;49m\u001b[43mcross_entropy\u001b[49m\u001b[43m(\u001b[49m\u001b[38;5;28;43minput\u001b[39;49m\u001b[43m,\u001b[49m\u001b[43m \u001b[49m\u001b[43mtarget\u001b[49m\u001b[43m,\u001b[49m\u001b[43m \u001b[49m\u001b[43mweight\u001b[49m\u001b[38;5;241;43m=\u001b[39;49m\u001b[38;5;28;43mself\u001b[39;49m\u001b[38;5;241;43m.\u001b[39;49m\u001b[43mweight\u001b[49m\u001b[43m,\u001b[49m\n\u001b[1;32m   1164\u001b[0m \u001b[43m                           \u001b[49m\u001b[43mignore_index\u001b[49m\u001b[38;5;241;43m=\u001b[39;49m\u001b[38;5;28;43mself\u001b[39;49m\u001b[38;5;241;43m.\u001b[39;49m\u001b[43mignore_index\u001b[49m\u001b[43m,\u001b[49m\u001b[43m \u001b[49m\u001b[43mreduction\u001b[49m\u001b[38;5;241;43m=\u001b[39;49m\u001b[38;5;28;43mself\u001b[39;49m\u001b[38;5;241;43m.\u001b[39;49m\u001b[43mreduction\u001b[49m\u001b[43m,\u001b[49m\n\u001b[1;32m   1165\u001b[0m \u001b[43m                           \u001b[49m\u001b[43mlabel_smoothing\u001b[49m\u001b[38;5;241;43m=\u001b[39;49m\u001b[38;5;28;43mself\u001b[39;49m\u001b[38;5;241;43m.\u001b[39;49m\u001b[43mlabel_smoothing\u001b[49m\u001b[43m)\u001b[49m\n",
      "File \u001b[0;32m~/opt/anaconda3/envs/PyCharm/lib/python3.9/site-packages/torch/nn/functional.py:2996\u001b[0m, in \u001b[0;36mcross_entropy\u001b[0;34m(input, target, weight, size_average, ignore_index, reduce, reduction, label_smoothing)\u001b[0m\n\u001b[1;32m   2994\u001b[0m \u001b[38;5;28;01mif\u001b[39;00m size_average \u001b[38;5;129;01mis\u001b[39;00m \u001b[38;5;129;01mnot\u001b[39;00m \u001b[38;5;28;01mNone\u001b[39;00m \u001b[38;5;129;01mor\u001b[39;00m reduce \u001b[38;5;129;01mis\u001b[39;00m \u001b[38;5;129;01mnot\u001b[39;00m \u001b[38;5;28;01mNone\u001b[39;00m:\n\u001b[1;32m   2995\u001b[0m     reduction \u001b[38;5;241m=\u001b[39m _Reduction\u001b[38;5;241m.\u001b[39mlegacy_get_string(size_average, reduce)\n\u001b[0;32m-> 2996\u001b[0m \u001b[38;5;28;01mreturn\u001b[39;00m \u001b[43mtorch\u001b[49m\u001b[38;5;241;43m.\u001b[39;49m\u001b[43m_C\u001b[49m\u001b[38;5;241;43m.\u001b[39;49m\u001b[43m_nn\u001b[49m\u001b[38;5;241;43m.\u001b[39;49m\u001b[43mcross_entropy_loss\u001b[49m\u001b[43m(\u001b[49m\u001b[38;5;28;43minput\u001b[39;49m\u001b[43m,\u001b[49m\u001b[43m \u001b[49m\u001b[43mtarget\u001b[49m\u001b[43m,\u001b[49m\u001b[43m \u001b[49m\u001b[43mweight\u001b[49m\u001b[43m,\u001b[49m\u001b[43m \u001b[49m\u001b[43m_Reduction\u001b[49m\u001b[38;5;241;43m.\u001b[39;49m\u001b[43mget_enum\u001b[49m\u001b[43m(\u001b[49m\u001b[43mreduction\u001b[49m\u001b[43m)\u001b[49m\u001b[43m,\u001b[49m\u001b[43m \u001b[49m\u001b[43mignore_index\u001b[49m\u001b[43m,\u001b[49m\u001b[43m \u001b[49m\u001b[43mlabel_smoothing\u001b[49m\u001b[43m)\u001b[49m\n",
      "\u001b[0;31mIndexError\u001b[0m: Target 1 is out of bounds."
     ]
    }
   ],
   "source": [
    "# 3) Training loop\n",
    "counter = 0\n",
    "for epoch in range(num_epochs):\n",
    "    for index, row in enumerate(X_train):\n",
    "\n",
    "        optimizer.zero_grad()\n",
    "\n",
    "        # Forward pass and loss\n",
    "        y_pred = model(row)\n",
    "        print(y_pred)\n",
    "        print(y_train[index])\n",
    "        loss = criterion(y_pred, y_train[index].type(torch.LongTensor).view(1))\n",
    "\n",
    "        # Backward pass and update\n",
    "        loss.backward()\n",
    "        optimizer.step()\n",
    "\n",
    "        if (index+1) % 1000 == 0:\n",
    "            print(f'row: {index+1}, loss = {loss.item():.8f}')\n",
    "\n",
    "\n",
    "\n",
    "with torch.no_grad():\n",
    "    correct = 0\n",
    "    neutrals = 0\n",
    "    total = 1792\n",
    "    y_predicted = model(X_test)\n",
    "    for row in range(y_predicted.shape[0]):\n",
    "        print(row)\n",
    "        break\n",
    "        min_dist = 100\n",
    "        closest_index = None\n",
    "        for index in range(7):\n",
    "            index_dist = abs(float(y_predicted[row][index])-1)\n",
    "            if index_dist < min_dist:\n",
    "                dist = index_dist\n",
    "                closest_index = index\n",
    "\n",
    "        if closest_index == y_test[row]:\n",
    "            correct += 1\n",
    "        elif 5 == y_test[row]:\n",
    "            neutrals += 1\n",
    "        else:\n",
    "            #print(f\"wrong row: {y_predicted[row]}\")\n",
    "            #print(f\"Correct row: {y_test[row]} \\n\")\n",
    "            continue\n",
    "    print(f\"correct: {correct}\")\n",
    "    print(f\"neutrals: {neutrals}\")\n",
    "    print(f\"total: {total}\")\n",
    "\n",
    "#torch.save(model.state_dict(), \"./model-v10.pt\")"
   ]
  },
  {
   "cell_type": "markdown",
   "id": "29705556",
   "metadata": {},
   "source": [
    "# "
   ]
  }
 ],
 "metadata": {
  "kernelspec": {
   "display_name": "Python 3 (ipykernel)",
   "language": "python",
   "name": "python3"
  },
  "language_info": {
   "codemirror_mode": {
    "name": "ipython",
    "version": 3
   },
   "file_extension": ".py",
   "mimetype": "text/x-python",
   "name": "python",
   "nbconvert_exporter": "python",
   "pygments_lexer": "ipython3",
   "version": "3.9.5"
  }
 },
 "nbformat": 4,
 "nbformat_minor": 5
}
